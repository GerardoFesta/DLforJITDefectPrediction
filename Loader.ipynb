{
  "nbformat": 4,
  "nbformat_minor": 0,
  "metadata": {
    "colab": {
      "provenance": [],
      "authorship_tag": "ABX9TyNJh/VmZdiVeEGcxKWMxTUP",
      "include_colab_link": true
    },
    "kernelspec": {
      "name": "python3",
      "display_name": "Python 3"
    },
    "language_info": {
      "name": "python"
    },
    "accelerator": "GPU",
    "gpuClass": "standard"
  },
  "cells": [
    {
      "cell_type": "markdown",
      "metadata": {
        "id": "view-in-github",
        "colab_type": "text"
      },
      "source": [
        "<a href=\"https://colab.research.google.com/github/GerardoFesta/DLforJITDefectPrediction/blob/main/Loader.ipynb\" target=\"_parent\"><img src=\"https://colab.research.google.com/assets/colab-badge.svg\" alt=\"Open In Colab\"/></a>"
      ]
    },
    {
      "cell_type": "markdown",
      "source": [
        "Caricamento Liberie\n",
        "\n"
      ],
      "metadata": {
        "id": "93sgFgoySE5t"
      }
    },
    {
      "cell_type": "code",
      "execution_count": 11,
      "metadata": {
        "id": "P1e7typURUwt"
      },
      "outputs": [],
      "source": [
        "from cmath import e\n",
        "import pandas as pd\n",
        "import torch\n",
        "\n",
        "from torch import nn\n",
        "from torch.utils.data import Dataset\n",
        "\n",
        "import torch.optim as optim\n",
        "from torch.utils.data import DataLoader\n",
        "\n",
        "from sklearn.model_selection import train_test_split\n",
        "from sklearn.metrics import confusion_matrix, classification_report\n",
        "from TrainData import TrainData\n",
        "from TestData import TestData\n",
        "from BinaryClassificator import BinaryClassificator\n",
        "\n",
        "from sklearn.preprocessing import StandardScaler\n",
        "import sklearn.metrics as skmetrics "
      ]
    },
    {
      "cell_type": "markdown",
      "source": [
        "Funzione accuracy usata per il modello"
      ],
      "metadata": {
        "id": "itMJ8PaMSc9S"
      }
    },
    {
      "cell_type": "code",
      "source": [
        "def accuracy(y_pred, y_test):\n",
        "    y_pred_tag = torch.round(torch.sigmoid(y_pred)) #risultati sigmoidali arrotondati\n",
        "    correct_results_sum = (y_pred_tag == y_test).sum().float() # num risultati corretti\n",
        "    acc = correct_results_sum/y_test.shape[0] #y_test.spape[0] è il numero di risultati totali\n",
        "    acc = torch.round(acc * 100)\n",
        "    #si fa media e si ritorna accuracy\n",
        "    return acc"
      ],
      "metadata": {
        "id": "uWzhB-cYSD7C"
      },
      "execution_count": 2,
      "outputs": []
    },
    {
      "cell_type": "markdown",
      "source": [
        "Caricamento dei dati, splitting in train e test set"
      ],
      "metadata": {
        "id": "ipyDIL_bSuV4"
      }
    },
    {
      "cell_type": "code",
      "source": [
        "df = pd.read_csv(\"data_for_analysis.csv\")\n",
        "df = df.drop(columns=['PROJECT', \"TIME\"])\n",
        "\n",
        "\n",
        "device = torch.device('cpu')\n",
        "df['FILE_BUGGY'] = df['FILE_BUGGY'].astype(int)\n",
        "\n",
        "X = df.iloc[:, 0:-1] #dataset senza label predizione\n",
        "y = df.iloc[:, -1] #valori da pred.\n",
        "print(sum(df['FILE_BUGGY'])/len(df.index))\n",
        "X_train, X_test, y_train, y_test = train_test_split(X, y, test_size=0.20, random_state=69) #splitting in train e test\n",
        "print(sum(y_train)/len(y_train))\n",
        "print(sum(y_test)/len(y_test))\n"
      ],
      "metadata": {
        "colab": {
          "base_uri": "https://localhost:8080/"
        },
        "id": "zC_CRUkSShij",
        "outputId": "cc8f3336-de59-4daf-a872-b526f82405bf"
      },
      "execution_count": 3,
      "outputs": [
        {
          "output_type": "stream",
          "name": "stdout",
          "text": [
            "0.3747678018575851\n",
            "0.3758578431372549\n",
            "0.3704076367389061\n"
          ]
        }
      ]
    },
    {
      "cell_type": "markdown",
      "source": [
        "\n",
        "Parametri rete\n"
      ],
      "metadata": {
        "id": "7cCEOPr3T1Cj"
      }
    },
    {
      "cell_type": "code",
      "source": [
        "EPOCHS = 50\n",
        "BATCH_SIZE = 1024\n",
        "LEARNING_RATE = 0.001"
      ],
      "metadata": {
        "id": "Uu3oG07jTv7O"
      },
      "execution_count": 4,
      "outputs": []
    },
    {
      "cell_type": "markdown",
      "source": [
        "Scaling dei dati e creazione tensore di train e test"
      ],
      "metadata": {
        "id": "fuXSov0MS7BA"
      }
    },
    {
      "cell_type": "code",
      "source": [
        "scaler = StandardScaler()\n",
        "X_train = scaler.fit_transform(X_train)\n",
        "X_test = scaler.transform(X_test)\n",
        "print(type(y_train.to_numpy))\n",
        "#Crea tensore di training\n",
        "torch.FloatTensor(X_train)\n",
        "torch.FloatTensor(y_train.to_numpy())\n"
      ],
      "metadata": {
        "colab": {
          "base_uri": "https://localhost:8080/"
        },
        "id": "rzZw0Dx6S-qe",
        "outputId": "00fccc40-ac5a-4ccf-f2b2-bc68f857fcbf"
      },
      "execution_count": 5,
      "outputs": [
        {
          "output_type": "stream",
          "name": "stdout",
          "text": [
            "<class 'method'>\n"
          ]
        },
        {
          "output_type": "execute_result",
          "data": {
            "text/plain": [
              "tensor([1., 0., 0.,  ..., 1., 1., 0.])"
            ]
          },
          "metadata": {},
          "execution_count": 5
        }
      ]
    },
    {
      "cell_type": "markdown",
      "source": [
        "Creazione Loader"
      ],
      "metadata": {
        "id": "mU-Nrdp1Uigb"
      }
    },
    {
      "cell_type": "code",
      "source": [
        "#Crea tensore di test\n",
        "train_data = TrainData(torch.FloatTensor(X_train), torch.FloatTensor(y_train.to_numpy()))\n",
        "test_data = TestData(torch.FloatTensor(X_test))\n",
        "train_loader = DataLoader(dataset=train_data, batch_size=BATCH_SIZE, shuffle=True)\n",
        "test_loader = DataLoader(dataset=test_data, batch_size=1)\n"
      ],
      "metadata": {
        "id": "cRfTvWicUg9m"
      },
      "execution_count": 6,
      "outputs": []
    },
    {
      "cell_type": "markdown",
      "source": [
        "Creazione Modello e definizione optimizer e loss"
      ],
      "metadata": {
        "id": "RHG137XtVN5P"
      }
    },
    {
      "cell_type": "code",
      "source": [
        "model = BinaryClassificator(24, 13,  1)\n",
        "print(model)\n",
        "criterion = nn.BCEWithLogitsLoss()\n",
        "optimizer = optim.Adam(model.parameters(), lr=0.001)\n",
        "\n",
        "\n",
        "device = torch.device(\"cuda:0\" if torch.cuda.is_available() else \"cpu\")\n",
        "model = model.to(device)"
      ],
      "metadata": {
        "colab": {
          "base_uri": "https://localhost:8080/"
        },
        "id": "YesVWBVbU0Dm",
        "outputId": "04cd7d7e-dec5-4e92-cc56-f8b3d4e71232"
      },
      "execution_count": 7,
      "outputs": [
        {
          "output_type": "stream",
          "name": "stdout",
          "text": [
            "BinaryClassificator(\n",
            "  (fc1): Linear(in_features=24, out_features=13, bias=True)\n",
            "  (fc2): Linear(in_features=13, out_features=1, bias=True)\n",
            ")\n"
          ]
        }
      ]
    },
    {
      "cell_type": "markdown",
      "source": [
        "Training del modello"
      ],
      "metadata": {
        "id": "XKFxJOt1VrZm"
      }
    },
    {
      "cell_type": "code",
      "source": [
        "model.train()\n",
        "for epoch in range(EPOCHS):  \n",
        "\n",
        "    running_loss = 0.0\n",
        "    running_acc = 0.0\n",
        "    for X_batch, y_batch in train_loader:\n",
        "        \n",
        "        #manda i batch al device \n",
        "        X_batch, y_batch = X_batch.to(device), y_batch.to(device)\n",
        "        #azzera gradiente\n",
        "        optimizer.zero_grad()\n",
        "        #predict\n",
        "        y_pred = model(X_batch)\n",
        "        #calcola loss e accuracy\n",
        "        #y_pred_test = torch.sigmoid(y_pred)\n",
        "       \n",
        "        #y_pred_test = [1 if x>=.5 else 0 for x in y_pred_test]\n",
        "      \n",
        "\n",
        "        #print(y_batch.shape)\n",
        "        loss = criterion(y_pred, y_batch.unsqueeze(1))\n",
        "        acc = accuracy(y_pred, y_batch.unsqueeze(1))\n",
        "        #backpropagation della loss\n",
        "        loss.backward()\n",
        "        #ottimizzazione\n",
        "        optimizer.step()\n",
        "        \n",
        "        #somma della loss e dell'accuracy per il batch\n",
        "        running_loss += loss.item()\n",
        "        running_acc += acc.item()                   \n",
        "        \n",
        "    \n",
        "    print(f'Epoch {epoch}: | Loss: {running_loss/len(train_loader):.5f} | Acc: {running_acc/len(train_loader):.3f}')\n"
      ],
      "metadata": {
        "colab": {
          "base_uri": "https://localhost:8080/"
        },
        "id": "rTr3hJn3Vn6R",
        "outputId": "1a2e4574-0415-4a74-cdf0-c77e887bcd3e"
      },
      "execution_count": 8,
      "outputs": [
        {
          "output_type": "stream",
          "name": "stderr",
          "text": [
            "/usr/local/lib/python3.7/dist-packages/torch/nn/functional.py:1949: UserWarning: nn.functional.tanh is deprecated. Use torch.tanh instead.\n",
            "  warnings.warn(\"nn.functional.tanh is deprecated. Use torch.tanh instead.\")\n"
          ]
        },
        {
          "output_type": "stream",
          "name": "stdout",
          "text": [
            "Epoch 0: | Loss: 0.65194 | Acc: 62.632\n",
            "Epoch 1: | Loss: 0.61909 | Acc: 65.704\n",
            "Epoch 2: | Loss: 0.61271 | Acc: 66.303\n",
            "Epoch 3: | Loss: 0.60931 | Acc: 66.572\n",
            "Epoch 4: | Loss: 0.60575 | Acc: 66.730\n",
            "Epoch 5: | Loss: 0.60338 | Acc: 66.980\n",
            "Epoch 6: | Loss: 0.60069 | Acc: 67.151\n",
            "Epoch 7: | Loss: 0.59863 | Acc: 67.270\n",
            "Epoch 8: | Loss: 0.59660 | Acc: 67.447\n",
            "Epoch 9: | Loss: 0.59469 | Acc: 67.546\n",
            "Epoch 10: | Loss: 0.59306 | Acc: 67.697\n",
            "Epoch 11: | Loss: 0.59149 | Acc: 67.849\n",
            "Epoch 12: | Loss: 0.59022 | Acc: 68.039\n",
            "Epoch 13: | Loss: 0.58927 | Acc: 68.132\n",
            "Epoch 14: | Loss: 0.58803 | Acc: 68.250\n",
            "Epoch 15: | Loss: 0.58731 | Acc: 68.257\n",
            "Epoch 16: | Loss: 0.58643 | Acc: 68.349\n",
            "Epoch 17: | Loss: 0.58571 | Acc: 68.480\n",
            "Epoch 18: | Loss: 0.58495 | Acc: 68.487\n",
            "Epoch 19: | Loss: 0.58431 | Acc: 68.579\n",
            "Epoch 20: | Loss: 0.58376 | Acc: 68.612\n",
            "Epoch 21: | Loss: 0.58299 | Acc: 68.697\n",
            "Epoch 22: | Loss: 0.58244 | Acc: 68.691\n",
            "Epoch 23: | Loss: 0.58212 | Acc: 68.789\n",
            "Epoch 24: | Loss: 0.58167 | Acc: 68.809\n",
            "Epoch 25: | Loss: 0.58123 | Acc: 68.855\n",
            "Epoch 26: | Loss: 0.58082 | Acc: 68.849\n",
            "Epoch 27: | Loss: 0.58060 | Acc: 68.914\n",
            "Epoch 28: | Loss: 0.58012 | Acc: 68.967\n",
            "Epoch 29: | Loss: 0.57997 | Acc: 68.961\n",
            "Epoch 30: | Loss: 0.57965 | Acc: 68.961\n",
            "Epoch 31: | Loss: 0.57913 | Acc: 69.007\n",
            "Epoch 32: | Loss: 0.57910 | Acc: 69.000\n",
            "Epoch 33: | Loss: 0.57865 | Acc: 69.072\n",
            "Epoch 34: | Loss: 0.57863 | Acc: 69.072\n",
            "Epoch 35: | Loss: 0.57825 | Acc: 69.059\n",
            "Epoch 36: | Loss: 0.57792 | Acc: 69.086\n",
            "Epoch 37: | Loss: 0.57769 | Acc: 69.197\n",
            "Epoch 38: | Loss: 0.57747 | Acc: 69.138\n",
            "Epoch 39: | Loss: 0.57731 | Acc: 69.224\n",
            "Epoch 40: | Loss: 0.57705 | Acc: 69.204\n",
            "Epoch 41: | Loss: 0.57688 | Acc: 69.184\n",
            "Epoch 42: | Loss: 0.57684 | Acc: 69.178\n",
            "Epoch 43: | Loss: 0.57654 | Acc: 69.250\n",
            "Epoch 44: | Loss: 0.57639 | Acc: 69.237\n",
            "Epoch 45: | Loss: 0.57612 | Acc: 69.224\n",
            "Epoch 46: | Loss: 0.57611 | Acc: 69.230\n",
            "Epoch 47: | Loss: 0.57584 | Acc: 69.283\n",
            "Epoch 48: | Loss: 0.57551 | Acc: 69.336\n",
            "Epoch 49: | Loss: 0.57553 | Acc: 69.303\n"
          ]
        }
      ]
    },
    {
      "cell_type": "markdown",
      "source": [
        "Test del modello"
      ],
      "metadata": {
        "id": "lcPKvr9AWIFK"
      }
    },
    {
      "cell_type": "code",
      "source": [
        "y_pred_list = []\n",
        "with torch.no_grad():\n",
        "    for X_batch in test_loader:\n",
        "        X_batch = X_batch.to(device)\n",
        "        y_test_pred = model(X_batch)\n",
        "        y_test_pred = torch.sigmoid(y_test_pred)\n",
        "        y_pred_tag = torch.round(y_test_pred)\n",
        "        y_pred_list.append(y_pred_tag.cpu().numpy())\n",
        "\n",
        "y_pred_list = [a.squeeze().tolist() for a in y_pred_list]"
      ],
      "metadata": {
        "id": "EZs6Ym-cWF7-"
      },
      "execution_count": 9,
      "outputs": []
    },
    {
      "cell_type": "markdown",
      "source": [
        "Stampa delle metriche"
      ],
      "metadata": {
        "id": "4YyxLBpUWX4a"
      }
    },
    {
      "cell_type": "code",
      "source": [
        "print(classification_report(y_test, y_pred_list))\n",
        "conf_mat = confusion_matrix(y_test, y_pred_list)\n",
        "skmetrics.ConfusionMatrixDisplay(conf_mat).plot()\n",
        "fpr, tpr, _ = skmetrics.roc_curve(y_test, y_pred_list)\n",
        "roc_display = skmetrics.RocCurveDisplay(fpr=fpr, tpr=tpr).plot()\n"
      ],
      "metadata": {
        "colab": {
          "base_uri": "https://localhost:8080/",
          "height": 697
        },
        "id": "Gnepts2fWVo2",
        "outputId": "4b7d9c35-a6dc-4276-ec02-6bc472f054f9"
      },
      "execution_count": 15,
      "outputs": [
        {
          "output_type": "stream",
          "name": "stdout",
          "text": [
            "              precision    recall  f1-score   support\n",
            "\n",
            "           0       0.72      0.83      0.77     24403\n",
            "           1       0.61      0.45      0.52     14357\n",
            "\n",
            "    accuracy                           0.69     38760\n",
            "   macro avg       0.67      0.64      0.65     38760\n",
            "weighted avg       0.68      0.69      0.68     38760\n",
            "\n"
          ]
        },
        {
          "output_type": "display_data",
          "data": {
            "text/plain": [
              "<Figure size 432x288 with 2 Axes>"
            ],
            "image/png": "[encoded data removed]"
          },
          "metadata": {
            "needs_background": "light"
          }
        },
        {
          "output_type": "display_data",
          "data": {
            "text/plain": [
              "<Figure size 432x288 with 1 Axes>"
            ],
            "image/png": "[encoded data removed]"
          },
          "metadata": {
            "needs_background": "light"
          }
        }
      ]
    }
  ]
}