{
  "nbformat": 4,
  "nbformat_minor": 0,
  "metadata": {
    "colab": {
      "provenance": [],
      "authorship_tag": "ABX9TyP/oOoT2o5+6/CKm182EFUJ",
      "include_colab_link": true
    },
    "kernelspec": {
      "name": "python3",
      "display_name": "Python 3"
    },
    "language_info": {
      "name": "python"
    },
    "accelerator": "GPU",
    "gpuClass": "standard"
  },
  "cells": [
    {
      "cell_type": "markdown",
      "metadata": {
        "id": "view-in-github",
        "colab_type": "text"
      },
      "source": [
        "<a href=\"https://colab.research.google.com/github/GerardoFesta/DLforJITDefectPrediction/blob/main/FirstNN.ipynb\" target=\"_parent\"><img src=\"https://colab.research.google.com/assets/colab-badge.svg\" alt=\"Open In Colab\"/></a>"
      ]
    },
    {
      "cell_type": "markdown",
      "source": [
        "Caricamento Liberie\n",
        "\n"
      ],
      "metadata": {
        "id": "93sgFgoySE5t"
      }
    },
    {
      "cell_type": "code",
      "execution_count": 31,
      "metadata": {
        "colab": {
          "base_uri": "https://localhost:8080/"
        },
        "id": "P1e7typURUwt",
        "outputId": "b28802cd-de42-426f-cb0d-410c0db1b13e"
      },
      "outputs": [
        {
          "output_type": "stream",
          "name": "stdout",
          "text": [
            "Looking in indexes: https://pypi.org/simple, https://us-python.pkg.dev/colab-wheels/public/simple/\n",
            "Collecting torchmetrics\n",
            "  Downloading torchmetrics-0.10.3-py3-none-any.whl (529 kB)\n",
            "\u001b[K     |████████████████████████████████| 529 kB 7.5 MB/s \n",
            "\u001b[?25hRequirement already satisfied: numpy>=1.17.2 in /usr/local/lib/python3.7/dist-packages (from torchmetrics) (1.21.6)\n",
            "Requirement already satisfied: packaging in /usr/local/lib/python3.7/dist-packages (from torchmetrics) (21.3)\n",
            "Requirement already satisfied: typing-extensions in /usr/local/lib/python3.7/dist-packages (from torchmetrics) (4.1.1)\n",
            "Requirement already satisfied: torch>=1.3.1 in /usr/local/lib/python3.7/dist-packages (from torchmetrics) (1.12.1+cu113)\n",
            "Requirement already satisfied: pyparsing!=3.0.5,>=2.0.2 in /usr/local/lib/python3.7/dist-packages (from packaging->torchmetrics) (3.0.9)\n",
            "Installing collected packages: torchmetrics\n",
            "Successfully installed torchmetrics-0.10.3\n"
          ]
        }
      ],
      "source": [
        "from cmath import e\n",
        "import pandas as pd\n",
        "import torch\n",
        "\n",
        "from torch import nn\n",
        "from torch.utils.data import Dataset\n",
        "\n",
        "import torch.optim as optim\n",
        "from torch.utils.data import DataLoader\n",
        "\n",
        "from sklearn.model_selection import train_test_split\n",
        "from sklearn.metrics import confusion_matrix, classification_report\n",
        "\n",
        "\n",
        "from sklearn.preprocessing import StandardScaler\n",
        "import sklearn.metrics as skmetrics \n",
        "!pip install torchmetrics\n",
        "from torchmetrics import AUROC"
      ]
    },
    {
      "cell_type": "markdown",
      "source": [
        "Classe BinaryClassificator. E' il MLP"
      ],
      "metadata": {
        "id": "0uIWjz_MdtT_"
      }
    },
    {
      "cell_type": "code",
      "source": [
        "from torch import nn\n",
        "import torch\n",
        "import torch.nn.functional as F\n",
        "\n",
        "\n",
        "class BinaryClassificator(nn.Module):\n",
        "  def __init__(self, in_size: int, hidden_size: int, num_classes: int):\n",
        "    super(BinaryClassificator, self).__init__()\n",
        "\n",
        "    self.fc1 = nn.Linear(in_size, hidden_size)\n",
        "    self.fc2 = nn.Linear(hidden_size, num_classes)\n",
        "\n",
        "  def forward(self, x: torch.Tensor):\n",
        "\n",
        "    out_1 = self.fc1(x)\n",
        "\n",
        "    out_2 = F.tanh(out_1)\n",
        "    out_2_2 = F.tanh(out_2)\n",
        "\n",
        "    out_3 = self.fc2(out_2)\n",
        "\n",
        "    return out_3"
      ],
      "metadata": {
        "id": "UK_KbWfddl-N"
      },
      "execution_count": 32,
      "outputs": []
    },
    {
      "cell_type": "markdown",
      "source": [
        "Classi di comodo TrainData e TestData "
      ],
      "metadata": {
        "id": "5efIVchAd_gZ"
      }
    },
    {
      "cell_type": "code",
      "source": [
        "from torch.utils.data import Dataset\n",
        "class TrainData(Dataset):\n",
        "    \n",
        "    def __init__(self, X_data, y_data):\n",
        "        self.X_data = X_data\n",
        "        self.y_data = y_data\n",
        "        \n",
        "    def __getitem__(self, index):\n",
        "        return self.X_data[index], self.y_data[index]\n",
        "        \n",
        "    def __len__ (self):\n",
        "        return len(self.X_data)\n",
        "\n",
        "class TestData(Dataset):\n",
        "    \n",
        "    def __init__(self, X_data):\n",
        "        self.X_data = X_data\n",
        "        \n",
        "    def __getitem__(self, index):\n",
        "        return self.X_data[index]\n",
        "        \n",
        "    def __len__ (self):\n",
        "        return len(self.X_data)"
      ],
      "metadata": {
        "id": "1f-USBhKd2gW"
      },
      "execution_count": 19,
      "outputs": []
    },
    {
      "cell_type": "markdown",
      "source": [
        "Funzione accuracy usata per il modello"
      ],
      "metadata": {
        "id": "itMJ8PaMSc9S"
      }
    },
    {
      "cell_type": "code",
      "source": [
        "def accuracy(y_pred, y_test):\n",
        "    y_pred_tag = torch.round(torch.sigmoid(y_pred)) #risultati sigmoidali arrotondati\n",
        "    correct_results_sum = (y_pred_tag == y_test).sum().float() # num risultati corretti\n",
        "    acc = correct_results_sum/y_test.shape[0] #y_test.spape[0] è il numero di risultati totali\n",
        "    acc = torch.round(acc * 100)\n",
        "    #si fa media e si ritorna accuracy\n",
        "    return acc"
      ],
      "metadata": {
        "id": "uWzhB-cYSD7C"
      },
      "execution_count": 20,
      "outputs": []
    },
    {
      "cell_type": "markdown",
      "source": [
        "Caricamento dei dati, splitting in train e test set"
      ],
      "metadata": {
        "id": "ipyDIL_bSuV4"
      }
    },
    {
      "cell_type": "code",
      "source": [
        "df = pd.read_csv(\"data_for_analysis.csv\")\n",
        "df = df.drop(columns=['PROJECT', \"TIME\"])\n",
        "\n",
        "\n",
        "device = torch.device('cpu')\n",
        "df['FILE_BUGGY'] = df['FILE_BUGGY'].astype(int)\n",
        "\n",
        "X = df.iloc[:, 0:-1] #dataset senza label predizione\n",
        "y = df.iloc[:, -1] #valori da pred.\n",
        "print(sum(df['FILE_BUGGY'])/len(df.index))\n",
        "X_train, X_test, y_train, y_test = train_test_split(X, y, test_size=0.20, random_state=69) #splitting in train e test\n",
        "print(sum(y_train)/len(y_train))\n",
        "print(sum(y_test)/len(y_test))\n"
      ],
      "metadata": {
        "colab": {
          "base_uri": "https://localhost:8080/"
        },
        "id": "zC_CRUkSShij",
        "outputId": "a9ef198f-a9e6-411f-f182-3faf31757f20"
      },
      "execution_count": 21,
      "outputs": [
        {
          "output_type": "stream",
          "name": "stdout",
          "text": [
            "0.3747678018575851\n",
            "0.3758578431372549\n",
            "0.3704076367389061\n"
          ]
        }
      ]
    },
    {
      "cell_type": "markdown",
      "source": [
        "\n",
        "Parametri rete\n"
      ],
      "metadata": {
        "id": "7cCEOPr3T1Cj"
      }
    },
    {
      "cell_type": "code",
      "source": [
        "EPOCHS = 50\n",
        "BATCH_SIZE = 1024\n",
        "LEARNING_RATE = 0.001"
      ],
      "metadata": {
        "id": "Uu3oG07jTv7O"
      },
      "execution_count": 22,
      "outputs": []
    },
    {
      "cell_type": "markdown",
      "source": [
        "Scaling dei dati e creazione tensore di train e test"
      ],
      "metadata": {
        "id": "fuXSov0MS7BA"
      }
    },
    {
      "cell_type": "code",
      "source": [
        "scaler = StandardScaler()\n",
        "X_train = scaler.fit_transform(X_train)\n",
        "X_test = scaler.transform(X_test)\n",
        "print(type(y_train.to_numpy))\n",
        "#Crea tensore di training\n",
        "torch.FloatTensor(X_train)\n",
        "torch.FloatTensor(y_train.to_numpy())\n"
      ],
      "metadata": {
        "colab": {
          "base_uri": "https://localhost:8080/"
        },
        "id": "rzZw0Dx6S-qe",
        "outputId": "65292e40-9310-4433-86f7-9a56e47effbe"
      },
      "execution_count": 23,
      "outputs": [
        {
          "output_type": "stream",
          "name": "stdout",
          "text": [
            "<class 'method'>\n"
          ]
        },
        {
          "output_type": "execute_result",
          "data": {
            "text/plain": [
              "tensor([1., 0., 0.,  ..., 1., 1., 0.])"
            ]
          },
          "metadata": {},
          "execution_count": 23
        }
      ]
    },
    {
      "cell_type": "markdown",
      "source": [
        "Creazione Loader"
      ],
      "metadata": {
        "id": "mU-Nrdp1Uigb"
      }
    },
    {
      "cell_type": "code",
      "source": [
        "#Crea tensore di test\n",
        "train_data = TrainData(torch.FloatTensor(X_train), torch.FloatTensor(y_train.to_numpy()))\n",
        "test_data = TestData(torch.FloatTensor(X_test))\n",
        "train_loader = DataLoader(dataset=train_data, batch_size=BATCH_SIZE, shuffle=True)\n",
        "test_loader = DataLoader(dataset=test_data, batch_size=1)\n"
      ],
      "metadata": {
        "id": "cRfTvWicUg9m"
      },
      "execution_count": 24,
      "outputs": []
    },
    {
      "cell_type": "markdown",
      "source": [
        "Creazione Modello e definizione optimizer e loss"
      ],
      "metadata": {
        "id": "RHG137XtVN5P"
      }
    },
    {
      "cell_type": "code",
      "source": [
        "model = BinaryClassificator(24, 13,  1)\n",
        "print(model)\n",
        "criterion = nn.BCEWithLogitsLoss()\n",
        "optimizer = optim.Adam(model.parameters(), lr=0.001)\n",
        "\n",
        "\n",
        "device = torch.device(\"cuda:0\" if torch.cuda.is_available() else \"cpu\")\n",
        "model = model.to(device)"
      ],
      "metadata": {
        "colab": {
          "base_uri": "https://localhost:8080/"
        },
        "id": "YesVWBVbU0Dm",
        "outputId": "b2bf5e3b-e840-4094-c47b-0a771fe2a2d3"
      },
      "execution_count": 25,
      "outputs": [
        {
          "output_type": "stream",
          "name": "stdout",
          "text": [
            "BinaryClassificator(\n",
            "  (fc1): Linear(in_features=24, out_features=13, bias=True)\n",
            "  (fc2): Linear(in_features=13, out_features=1, bias=True)\n",
            ")\n"
          ]
        }
      ]
    },
    {
      "cell_type": "markdown",
      "source": [
        "Training del modello"
      ],
      "metadata": {
        "id": "XKFxJOt1VrZm"
      }
    },
    {
      "cell_type": "code",
      "source": [
        "model.train()\n",
        "for epoch in range(EPOCHS):  \n",
        "\n",
        "    running_loss = 0.0\n",
        "    running_acc = 0.0\n",
        "    for X_batch, y_batch in train_loader:\n",
        "        \n",
        "        #manda i batch al device \n",
        "        X_batch, y_batch = X_batch.to(device), y_batch.to(device)\n",
        "        #azzera gradiente\n",
        "        optimizer.zero_grad()\n",
        "        #predict\n",
        "        y_pred = model(X_batch)\n",
        "        #calcola loss e accuracy\n",
        "        #y_pred_test = torch.sigmoid(y_pred)\n",
        "       \n",
        "        #y_pred_test = [1 if x>=.5 else 0 for x in y_pred_test]\n",
        "      \n",
        "\n",
        "        #print(y_batch.shape)\n",
        "        loss = criterion(y_pred, y_batch.unsqueeze(1))\n",
        "        acc = accuracy(y_pred, y_batch.unsqueeze(1))\n",
        "        #backpropagation della loss\n",
        "        loss.backward()\n",
        "        #ottimizzazione\n",
        "        optimizer.step()\n",
        "        \n",
        "        #somma della loss e dell'accuracy per il batch\n",
        "        running_loss += loss.item()\n",
        "        running_acc += acc.item()                   \n",
        "        \n",
        "    \n",
        "    print(f'Epoch {epoch}: | Loss: {running_loss/len(train_loader):.5f} | Acc: {running_acc/len(train_loader):.3f}')\n"
      ],
      "metadata": {
        "colab": {
          "base_uri": "https://localhost:8080/"
        },
        "id": "rTr3hJn3Vn6R",
        "outputId": "78151f6f-871b-4a3c-f015-f756adf12ed4"
      },
      "execution_count": 26,
      "outputs": [
        {
          "output_type": "stream",
          "name": "stderr",
          "text": [
            "/usr/local/lib/python3.7/dist-packages/torch/nn/functional.py:1949: UserWarning: nn.functional.tanh is deprecated. Use torch.tanh instead.\n",
            "  warnings.warn(\"nn.functional.tanh is deprecated. Use torch.tanh instead.\")\n"
          ]
        },
        {
          "output_type": "stream",
          "name": "stdout",
          "text": [
            "Epoch 0: | Loss: 0.65617 | Acc: 62.066\n",
            "Epoch 1: | Loss: 0.61967 | Acc: 65.816\n",
            "Epoch 2: | Loss: 0.61345 | Acc: 66.204\n",
            "Epoch 3: | Loss: 0.61021 | Acc: 66.474\n",
            "Epoch 4: | Loss: 0.60709 | Acc: 66.697\n",
            "Epoch 5: | Loss: 0.60448 | Acc: 66.895\n",
            "Epoch 6: | Loss: 0.60218 | Acc: 67.039\n",
            "Epoch 7: | Loss: 0.59971 | Acc: 67.336\n",
            "Epoch 8: | Loss: 0.59731 | Acc: 67.428\n",
            "Epoch 9: | Loss: 0.59527 | Acc: 67.559\n",
            "Epoch 10: | Loss: 0.59332 | Acc: 67.737\n",
            "Epoch 11: | Loss: 0.59145 | Acc: 67.961\n",
            "Epoch 12: | Loss: 0.58998 | Acc: 68.066\n",
            "Epoch 13: | Loss: 0.58849 | Acc: 68.224\n",
            "Epoch 14: | Loss: 0.58760 | Acc: 68.237\n",
            "Epoch 15: | Loss: 0.58648 | Acc: 68.368\n",
            "Epoch 16: | Loss: 0.58562 | Acc: 68.493\n",
            "Epoch 17: | Loss: 0.58493 | Acc: 68.533\n",
            "Epoch 18: | Loss: 0.58429 | Acc: 68.474\n",
            "Epoch 19: | Loss: 0.58351 | Acc: 68.704\n",
            "Epoch 20: | Loss: 0.58300 | Acc: 68.651\n",
            "Epoch 21: | Loss: 0.58246 | Acc: 68.763\n",
            "Epoch 22: | Loss: 0.58198 | Acc: 68.809\n",
            "Epoch 23: | Loss: 0.58155 | Acc: 68.809\n",
            "Epoch 24: | Loss: 0.58117 | Acc: 68.947\n",
            "Epoch 25: | Loss: 0.58090 | Acc: 68.901\n",
            "Epoch 26: | Loss: 0.58057 | Acc: 68.908\n",
            "Epoch 27: | Loss: 0.58006 | Acc: 68.954\n",
            "Epoch 28: | Loss: 0.57962 | Acc: 68.987\n",
            "Epoch 29: | Loss: 0.57965 | Acc: 68.987\n",
            "Epoch 30: | Loss: 0.57929 | Acc: 69.039\n",
            "Epoch 31: | Loss: 0.57896 | Acc: 69.059\n",
            "Epoch 32: | Loss: 0.57862 | Acc: 69.079\n",
            "Epoch 33: | Loss: 0.57844 | Acc: 69.105\n",
            "Epoch 34: | Loss: 0.57802 | Acc: 69.125\n",
            "Epoch 35: | Loss: 0.57777 | Acc: 69.092\n",
            "Epoch 36: | Loss: 0.57747 | Acc: 69.171\n",
            "Epoch 37: | Loss: 0.57715 | Acc: 69.164\n",
            "Epoch 38: | Loss: 0.57697 | Acc: 69.197\n",
            "Epoch 39: | Loss: 0.57679 | Acc: 69.237\n",
            "Epoch 40: | Loss: 0.57667 | Acc: 69.237\n",
            "Epoch 41: | Loss: 0.57646 | Acc: 69.257\n",
            "Epoch 42: | Loss: 0.57623 | Acc: 69.296\n",
            "Epoch 43: | Loss: 0.57613 | Acc: 69.342\n",
            "Epoch 44: | Loss: 0.57588 | Acc: 69.362\n",
            "Epoch 45: | Loss: 0.57590 | Acc: 69.336\n",
            "Epoch 46: | Loss: 0.57565 | Acc: 69.349\n",
            "Epoch 47: | Loss: 0.57553 | Acc: 69.375\n",
            "Epoch 48: | Loss: 0.57537 | Acc: 69.368\n",
            "Epoch 49: | Loss: 0.57523 | Acc: 69.322\n"
          ]
        }
      ]
    },
    {
      "cell_type": "markdown",
      "source": [
        "Test del modello"
      ],
      "metadata": {
        "id": "lcPKvr9AWIFK"
      }
    },
    {
      "cell_type": "code",
      "source": [
        "y_pred_list = []\n",
        "with torch.no_grad():\n",
        "    for X_batch in test_loader:\n",
        "        X_batch = X_batch.to(device)\n",
        "        y_test_pred = model(X_batch)\n",
        "        y_test_pred = torch.sigmoid(y_test_pred)\n",
        "        y_pred_tag = torch.round(y_test_pred)\n",
        "        y_pred_list.append(y_pred_tag.cpu().numpy())\n",
        "\n",
        "y_pred_list = [a.squeeze().tolist() for a in y_pred_list]"
      ],
      "metadata": {
        "id": "EZs6Ym-cWF7-"
      },
      "execution_count": 35,
      "outputs": []
    },
    {
      "cell_type": "markdown",
      "source": [
        "Stampa delle metriche"
      ],
      "metadata": {
        "id": "4YyxLBpUWX4a"
      }
    },
    {
      "cell_type": "code",
      "source": [
        "print(classification_report(y_test, y_pred_list))\n",
        "conf_mat = confusion_matrix(y_test, y_pred_list)\n",
        "print(\"SKMetrics F1 score: \")\n",
        "print(skmetrics.f1_score(y_test, y_pred_list))\n",
        "\n",
        "skmetrics.ConfusionMatrixDisplay(conf_mat).plot()\n",
        "fpr, tpr, _ = skmetrics.roc_curve(y_test, y_pred_list)\n",
        "roc_display = skmetrics.RocCurveDisplay(fpr=fpr, tpr=tpr).plot()\n",
        "auc_roc_score = skmetrics.roc_auc_score(y_test, y_pred_list)\n",
        "print(\"AUC-ROC score: \")\n",
        "print(auc_roc_score)\n"
      ],
      "metadata": {
        "colab": {
          "base_uri": "https://localhost:8080/",
          "height": 769
        },
        "id": "Gnepts2fWVo2",
        "outputId": "fcf9b2a1-afe7-4baf-c5aa-50ed9884edd0"
      },
      "execution_count": 44,
      "outputs": [
        {
          "output_type": "stream",
          "name": "stdout",
          "text": [
            "              precision    recall  f1-score   support\n",
            "\n",
            "           0       0.72      0.83      0.77     24403\n",
            "           1       0.61      0.46      0.53     14357\n",
            "\n",
            "    accuracy                           0.69     38760\n",
            "   macro avg       0.67      0.64      0.65     38760\n",
            "weighted avg       0.68      0.69      0.68     38760\n",
            "\n",
            "SKMetrics F1 score: \n",
            "0.5257392339749951\n",
            "AUC-ROC score: \n",
            "0.6442917038584683\n"
          ]
        },
        {
          "output_type": "display_data",
          "data": {
            "text/plain": [
              "<Figure size 432x288 with 2 Axes>"
            ],
            "image/png": "[encoded data removed]"
          },
          "metadata": {
            "needs_background": "light"
          }
        },
        {
          "output_type": "display_data",
          "data": {
            "text/plain": [
              "<Figure size 432x288 with 1 Axes>"
            ],
            "image/png": "[encoded data removed]"
          },
          "metadata": {
            "needs_background": "light"
          }
        }
      ]
    }
  ]
}